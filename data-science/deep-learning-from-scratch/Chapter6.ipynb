{
 "cells": [
  {
   "cell_type": "markdown",
   "metadata": {},
   "source": [
    "# 학습 관련 기술들\n",
    "\n",
    "\n",
    "## 매개변수 갱신\n",
    "\n",
    "신경망 학습의 목적은 손실함수의 값을 가능한 낮추는 매개변수를 찾는 것\n",
    "* 손실함수의 값을 낮추는 매개변수를 찾는것? 최적 매개변수를 찾는 문제와 동치.\n",
    "  * 이러한 문제를 푸는 것을 최적화라고 한다.\n",
    "\n",
    "    "
   ]
  },
  {
   "cell_type": "code",
   "execution_count": null,
   "metadata": {
    "collapsed": true
   },
   "outputs": [],
   "source": []
  }
 ],
 "metadata": {
  "kernelspec": {
   "display_name": "Python 3",
   "language": "python",
   "name": "python3"
  },
  "language_info": {
   "codemirror_mode": {
    "name": "ipython",
    "version": 3
   },
   "file_extension": ".py",
   "mimetype": "text/x-python",
   "name": "python",
   "nbconvert_exporter": "python",
   "pygments_lexer": "ipython3",
   "version": "3.5.0"
  }
 },
 "nbformat": 4,
 "nbformat_minor": 0
}
