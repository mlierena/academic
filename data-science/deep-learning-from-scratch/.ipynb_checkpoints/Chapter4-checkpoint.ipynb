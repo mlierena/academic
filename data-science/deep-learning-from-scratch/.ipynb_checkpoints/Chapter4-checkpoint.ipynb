{
 "cells": [
  {
   "cell_type": "markdown",
   "metadata": {},
   "source": [
    "# 신경망 학습\n",
    "\n",
    "* 학습 : 훈련데이터로부터 가중치 매개변수의 최적값을 자동으로 획득하는 것.\n",
    "* 손실함수는 신경망이 학습할 수 있도록 하는 지표의 역할을 한다.\n",
    "  * 손실 함수의 결과값을 가장 작게 만드는 가중치 매개변수를 찾는 것이 학습의 목표이다.\n",
    "  * 손실 함수의 값을 가급적으로 작게 만드는 기법 중에 함수의 기울기를 활용하는 경사법이 있다.\n",
    "\n",
    "## 데이터에서 학습하기\n",
    "* 신경망의 특징은 데이터를 보고 학습할 수 있다는 점이다.\n",
    "  * 가중치 매개변수의 값을 데이터로 보고 자동으로 결정한다는 것과 같다.\n",
    "  \n",
    "### 데이터 주도 학습\n",
    "* 기계학습은 데이터가 생명이다.\n",
    "  * 데이터에서 답을 찾고, 데이터에서 패턴을 발견하고, 데이터로 의사결정을 한다.\n",
    "  * 사람의 개입(경험/직관)을 최소화하고, 수집한 데이터(기록으로 남겨진 정보)로부터 패턴을 찾으려 시도한다.\n",
    "    * 신경망과 딥러닝은 특히 사람의 개입을 더욱 배제할 수 있게 해주는 특성을 지님\n",
    "    \n",
    "\n"
   ]
  },
  {
   "cell_type": "code",
   "execution_count": null,
   "metadata": {
    "collapsed": true
   },
   "outputs": [],
   "source": []
  }
 ],
 "metadata": {
  "kernelspec": {
   "display_name": "Python 3",
   "language": "python",
   "name": "python3"
  },
  "language_info": {
   "codemirror_mode": {
    "name": "ipython",
    "version": 3
   },
   "file_extension": ".py",
   "mimetype": "text/x-python",
   "name": "python",
   "nbconvert_exporter": "python",
   "pygments_lexer": "ipython3",
   "version": "3.5.0"
  }
 },
 "nbformat": 4,
 "nbformat_minor": 0
}
