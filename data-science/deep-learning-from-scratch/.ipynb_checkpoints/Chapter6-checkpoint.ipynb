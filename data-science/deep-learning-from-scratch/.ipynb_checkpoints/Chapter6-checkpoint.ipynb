{
 "cells": [
  {
   "cell_type": "markdown",
   "metadata": {},
   "source": [
    "# 학습 관련 기술들\n",
    "\n",
    "\n",
    "## 매개변수 갱신\n",
    "\n",
    "신경망 학습의 목적은 손실함수의 값을 가능한 낮추는 매개변수를 찾는 것\n",
    "* 손실함수의 값을 낮추는 매개변수를 찾는것? 최적 매개변수를 찾는 문제와 동치.\n",
    "  * 이러한 문제를 푸는 것을 최적화라고 한다.\n",
    "\n",
    "    "
   ]
  },
  {
   "cell_type": "code",
   "execution_count": null,
   "metadata": {
    "collapsed": true
   },
   "outputs": [],
   "source": []
  },
  {
   "cell_type": "code",
   "execution_count": null,
   "metadata": {
    "collapsed": true
   },
   "outputs": [],
   "source": []
  },
  {
   "cell_type": "code",
   "execution_count": null,
   "metadata": {
    "collapsed": true
   },
   "outputs": [],
   "source": []
  },
  {
   "cell_type": "code",
   "execution_count": null,
   "metadata": {
    "collapsed": true
   },
   "outputs": [],
   "source": []
  },
  {
   "cell_type": "code",
   "execution_count": null,
   "metadata": {
    "collapsed": true
   },
   "outputs": [],
   "source": []
  },
  {
   "cell_type": "code",
   "execution_count": null,
   "metadata": {
    "collapsed": true
   },
   "outputs": [],
   "source": []
  },
  {
   "cell_type": "code",
   "execution_count": null,
   "metadata": {
    "collapsed": true
   },
   "outputs": [],
   "source": []
  },
  {
   "cell_type": "code",
   "execution_count": null,
   "metadata": {
    "collapsed": true
   },
   "outputs": [],
   "source": []
  },
  {
   "cell_type": "markdown",
   "metadata": {},
   "source": [
    "## 올바르게 학습시키기\n",
    "\n",
    "* 기계학습에서 오버피팅이 문제가 되는 경우가 많다.\n",
    "  * 오버피팅이란 신경망이 훈련 데이터에만 지나치게 적응되어 그 외의 데이터에는 제대로 대응하지 못하는 상태를 의미함.\n",
    "  * 기계학습은 범용 성능을 지향하기 때문에, 훈련 데이터에는 포함되지 않는 Feature에도 바르게 식별해내는 모델이 바람직하다.\n",
    "\n",
    "### 오버피팅\n",
    "\n",
    "* 오버피팅은 두 가지 경우에 일어난다\n",
    "  * 매개변수가 많고 표현력이 높은 모델\n",
    "  * 훈련 데이터가 적음"
   ]
  },
  {
   "cell_type": "code",
   "execution_count": null,
   "metadata": {
    "collapsed": true
   },
   "outputs": [],
   "source": []
  },
  {
   "cell_type": "code",
   "execution_count": null,
   "metadata": {
    "collapsed": true
   },
   "outputs": [],
   "source": []
  },
  {
   "cell_type": "markdown",
   "metadata": {},
   "source": [
    "### 가중치 감소\n",
    "\n",
    "* 오버피팅 억제용으로 많이 사용된다.\n",
    "  * 큰 가중치에 대해서 그에 상응하는 큰 패널티를 부과하여 오버피팅을 억제한다.\n",
    "    * 오버피팅은 가중치 매개변수의 값이 커서 발생하는 경우가 많기 때문\n",
    "* 손실함수에 가중치의 L2 법칙을 더한다.\n",
    "    \n",
    "### 드롭아웃\n",
    "* 가중치 감소는 간단하게 구현할 수 있고, 어느 정도 지나친 학습을 억제할 수 있으나, 신경망 모델이 복잡해지면 가중치 감소만으로는 대응하기 어려워진다.\n",
    "* 드롭아웃은 뉴런을 임의로 삭제하면서 학습하는 방법이다.\n",
    "  * 훈련 때 은닉층의 뉴런을 무작위로 골라 삭제하고, 삭제된 뉴런은 신호를 전달하지 않게 된다. \n",
    "  * 훈련때는 데이터를 흘릴 때마다 삭제할 뉴런을 무작위로 선택하고, 시험때는 모든 뉴런에 신호를 전달한다.\n",
    "    * 시험 때는 각 뉴런의 출력에 훈련 때 삭제한 비율을 곱하여 출력\n",
    "    \n",
    " "
   ]
  },
  {
   "cell_type": "code",
   "execution_count": null,
   "metadata": {
    "collapsed": true
   },
   "outputs": [],
   "source": []
  },
  {
   "cell_type": "code",
   "execution_count": null,
   "metadata": {
    "collapsed": true
   },
   "outputs": [],
   "source": []
  },
  {
   "cell_type": "markdown",
   "metadata": {},
   "source": [
    "## 적절한 하이퍼파라미터 값 찾기\n",
    "\n",
    "* 신경망에는 하이퍼파라미터가 다수 등장한다.\n",
    "  * 하이퍼파라미터는 각 층의 뉴런 수, 배치 크기, 매개변수 갱신 시 학습률과 가중치 감소 같은 것들을 포함한다.\n",
    "  * 이러한 하이퍼 파라미터의 값을 적절히 설정하지 않으면 모델의 성능이 크게 떨어지기도 한다.\n",
    "  \n",
    "### 검증 데이터\n",
    "\n",
    "* 훈련데이터로 학습하고, 시험데이터로 범용 성능을 평가한다.\n",
    "  * 시험데이터를 통해, 훈련데이터에만 오버피팅한 건 아닌지, 범용 성능이 어느 정도인지 평가할 수 있다.\n",
    "* 하이퍼파라미터의 성능을 평가할 때 시험데이터를 사용해서 안 된다.\n",
    "  * 시험 데이터를 사용하여 하이퍼파라미터를 조정하면 하이퍼파라미터 값이 시험데이터에 오버피팅되기 때문이다.\n",
    "* 검증데이터란? 하이퍼파라미터의 적절성을 평가하는 하이퍼파라미터 조정용 데이터.\n",
    "  * MNIST 데이터셋에서 검증데이터를 얻는 가장 간단한 방법은 훈련 데이터 중 20% 정도를 검중데이터로 먼저 분리\n",
    "\n",
    "### 하이퍼파라미터 최적화"
   ]
  },
  {
   "cell_type": "code",
   "execution_count": null,
   "metadata": {
    "collapsed": true
   },
   "outputs": [],
   "source": [
    "\n"
   ]
  },
  {
   "cell_type": "code",
   "execution_count": null,
   "metadata": {
    "collapsed": true
   },
   "outputs": [],
   "source": []
  }
 ],
 "metadata": {
  "kernelspec": {
   "display_name": "Python 3",
   "language": "python",
   "name": "python3"
  },
  "language_info": {
   "codemirror_mode": {
    "name": "ipython",
    "version": 3
   },
   "file_extension": ".py",
   "mimetype": "text/x-python",
   "name": "python",
   "nbconvert_exporter": "python",
   "pygments_lexer": "ipython3",
   "version": "3.5.0"
  }
 },
 "nbformat": 4,
 "nbformat_minor": 0
}
